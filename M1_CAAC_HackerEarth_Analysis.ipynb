{
  "nbformat": 4,
  "nbformat_minor": 0,
  "metadata": {
    "colab": {
      "provenance": [],
      "authorship_tag": "ABX9TyPtFPdNSsgMYtgJoSgyqaFY",
      "include_colab_link": true
    },
    "kernelspec": {
      "name": "python3",
      "display_name": "Python 3"
    },
    "language_info": {
      "name": "python"
    }
  },
  "cells": [
    {
      "cell_type": "markdown",
      "metadata": {
        "id": "view-in-github",
        "colab_type": "text"
      },
      "source": [
        "<a href=\"https://colab.research.google.com/github/sgnclexus/Data_to_all/blob/main/M1_CAAC_HackerEarth_Analysis.ipynb\" target=\"_parent\"><img src=\"https://colab.research.google.com/assets/colab-badge.svg\" alt=\"Open In Colab\"/></a>"
      ]
    },
    {
      "cell_type": "code",
      "execution_count": null,
      "metadata": {
        "id": "zgSPPiZbuvlF"
      },
      "outputs": [],
      "source": [
        "# HackerEarth Analysis\n",
        "\n",
        "# INFO\n",
        "#\n",
        "# program : program to get some data from .csv file\n",
        "# creation date : 10.March.2023\n",
        "# modification date : 13.March.2023\n",
        "# developed by : cesar alejandro castillo alvarado\n",
        "#\n",
        "\n",
        "\n",
        "# Function to open files from temporal google colab directory\n",
        "\n",
        "def getdata_from_file(filename):\n",
        "    full_path_name = f'/content/sample_data/' + filename\n",
        "\n",
        "    #open the file\n",
        "    opened_file = open(full_path_name)\n",
        "\n",
        "    #avoid row number 1 - headers\n",
        "    next(opened_file)\n",
        "\n",
        "    #list to load only the first 3 columns of the csv\n",
        "    datalist = []\n",
        "    #dtrow = {}\n",
        "\n",
        "    #iterating csv file to get the data\n",
        "    for row in opened_file:\n",
        "        datalist.append(row.split(\",\")[0:3])\n",
        "\n",
        "        # dtrow[datalist[0][0]].append(datalist)\n",
        "        # dtrow = dict({datalist[0][0]:datalist})\n",
        "\n",
        "    #print(datalist)\n",
        "\n",
        "    return datalist\n",
        "\n",
        "    #the close function to free memory\n",
        "    opened_file.close()"
      ]
    },
    {
      "cell_type": "markdown",
      "source": [
        "# **Resolución 1ra Pregunta**"
      ],
      "metadata": {
        "id": "K8Mu_dZYhbLB"
      }
    },
    {
      "cell_type": "code",
      "source": [
        "# Main Program\n",
        "\n",
        "# variable declaration\n",
        "\n",
        "employees = []\n",
        "employees = getdata_from_file('Employees.csv')\n",
        "#print(employees)\n",
        "\n",
        "avg_age = 0\n",
        "notvalid_avg = 0\n",
        "average_people = 0\n",
        "\n",
        "#iteration of our list\n",
        "for i in employees:\n",
        "    #print(i)\n",
        "    if(i[2] != ''):\n",
        "        avg_age += int(i[2])\n",
        "    else:\n",
        "        notvalid_avg += 1\n",
        "\n",
        "#print(avg_age)\n",
        "#print(len(employees))\n",
        "\n",
        "average_people = round(avg_age/(len(employees)-notvalid_avg))\n",
        "print('La edad promedio de los empleados es de : ','\\033[1m' + str(average_people) + '\\033[0m', 'años')\n",
        "\n"
      ],
      "metadata": {
        "colab": {
          "base_uri": "https://localhost:8080/"
        },
        "id": "o7AeA4PHhBYR",
        "outputId": "d48cdf16-8358-48c0-d6c5-74589e8be8d6"
      },
      "execution_count": null,
      "outputs": [
        {
          "output_type": "stream",
          "name": "stdout",
          "text": [
            "La edad promedio de los empleados es de :  \u001b[1m40\u001b[0m años\n"
          ]
        }
      ]
    },
    {
      "cell_type": "markdown",
      "source": [
        "# **Resolución 2da Pregunta**"
      ],
      "metadata": {
        "id": "IGW--u97hiAS"
      }
    },
    {
      "cell_type": "code",
      "source": [
        "# variable declaration\n",
        "\n",
        "group_genre = {}\n",
        "# group_genre.append('')\n",
        "count = 0\n",
        "max_aban_genre = ''\n",
        "\n",
        "#iterate the list to group by genre\n",
        "for i in employees:\n",
        "    # print(i)\n",
        "    group_genre.update({i[1]:0})      #Set the value to any value\n",
        "\n",
        "#iteration for get the quantity by keys\n",
        "for key in group_genre:\n",
        "    count = 0\n",
        "    for i in employees:\n",
        "        if(key == i[1]):\n",
        "            count += 1\n",
        "        else:\n",
        "            continue\n",
        "\n",
        "    group_genre[key] = count\n",
        "\n",
        "#print(group_genre)\n",
        "\n",
        "for key,value in group_genre.items():\n",
        "  print('En la muestra se observa que el genero: ', '\\033[1m' + key + '\\033[0m',' tiene una deserción de :','\\033[1m' + str(value) + '\\033[0m', 'examinados')\n",
        "\n",
        "max_aban_genre = str(max(group_genre, key=group_genre.get))\n",
        "print('Por lo tanto el genero con mayor deserción es : ','\\033[1m' + max_aban_genre + '\\033[0m')\n",
        "\n"
      ],
      "metadata": {
        "colab": {
          "base_uri": "https://localhost:8080/"
        },
        "id": "qF_48GEGhNEt",
        "outputId": "c8f2624f-d2ac-43a7-fc33-be3e4309a1f3"
      },
      "execution_count": null,
      "outputs": [
        {
          "output_type": "stream",
          "name": "stdout",
          "text": [
            "En la muestra se observa que el genero:  \u001b[1mF\u001b[0m  tiene una deserción de : \u001b[1m4114\u001b[0m examinados\n",
            "En la muestra se observa que el genero:  \u001b[1mM\u001b[0m  tiene una deserción de : \u001b[1m2886\u001b[0m examinados\n",
            "Por lo tanto el genero con mayor deserción es :  \u001b[1mF\u001b[0m\n"
          ]
        }
      ]
    },
    {
      "cell_type": "markdown",
      "source": [
        "*Pruebas*:"
      ],
      "metadata": {
        "id": "uVTXWrbqhqJw"
      }
    },
    {
      "cell_type": "code",
      "source": [
        "\n",
        "#Only for test purpose\n",
        "\n",
        "female = 0\n",
        "male = 0\n",
        "not_defined = 0\n",
        "\n",
        "for i in employees:\n",
        "    #print(i)\n",
        "    if(i[1] == 'M'):\n",
        "        male += 1\n",
        "    elif(i[1] == 'F'):\n",
        "        female += 1\n",
        "    else:\n",
        "        not_defined += 1\n",
        "\n",
        "\n",
        "print(\"En la muestra hay : \", female,\" mujeres,\",male,\" hombres y \",not_defined,\"no definidos\")\n",
        "\n"
      ],
      "metadata": {
        "colab": {
          "base_uri": "https://localhost:8080/"
        },
        "id": "T_Uk1LLrhmsZ",
        "outputId": "1506ef06-ae7d-4f1f-f32e-1167be0a6258"
      },
      "execution_count": null,
      "outputs": [
        {
          "output_type": "stream",
          "name": "stdout",
          "text": [
            "En la muestra hay :  4114  mujeres, 2886  hombres y  0 no definidos\n"
          ]
        }
      ]
    }
  ]
}